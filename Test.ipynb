{
 "cells": [
  {
   "cell_type": "markdown",
   "id": "fe2b2da1-081d-4ac6-abf7-7ba3ebf74b20",
   "metadata": {},
   "source": [
    "# Test"
   ]
  },
  {
   "cell_type": "code",
   "execution_count": 1,
   "id": "6d269e22-20ad-4c12-a37a-2d32ae33d34b",
   "metadata": {},
   "outputs": [
    {
     "name": "stdout",
     "output_type": "stream",
     "text": [
      "Connection is Successful\n"
     ]
    }
   ],
   "source": [
    "import sqlite3\n",
    "import pandas as pd\n",
    "\n",
    "# Setup DB path\n",
    "db_path = r\"D:\\Projects\\Content\\Database\\drummer_data.db\"  # replace this with your local path\n",
    "\n",
    "# Connect to DB\n",
    "try:\n",
    "    conn = sqlite3.connect(db_path)\n",
    "    cursor = conn.cursor()\n",
    "    \n",
    "    print(\"Connection is Successful\")\n",
    "\n",
    "except sqlite3.Error as e:\n",
    "    \n",
    "    print(f\"Error connecting to database: {e}\")"
   ]
  },
  {
   "cell_type": "code",
   "execution_count": 2,
   "id": "538bdd99-84ca-4cea-9ed4-dbce4e866a64",
   "metadata": {},
   "outputs": [
    {
     "name": "stdout",
     "output_type": "stream",
     "text": [
      "Available tables: [('Sessions',), ('sqlite_sequence',), ('AnimationData',), ('MIDIEvents',)]\n"
     ]
    }
   ],
   "source": [
    "# List all available tables in the DB \n",
    "cursor.execute(\"SELECT name FROM sqlite_master WHERE type='table';\")\n",
    "tables = cursor.fetchall()\n",
    "\n",
    "print(\"Available tables:\", tables)"
   ]
  },
  {
   "cell_type": "code",
   "execution_count": 3,
   "id": "e36500e8-51fb-44eb-b9df-c108001be8ec",
   "metadata": {},
   "outputs": [
    {
     "name": "stdout",
     "output_type": "stream",
     "text": [
      "Columns in AnimationData:\n",
      "ID (INTEGER)\n",
      "SessionID (INTEGER)\n",
      "FrameIndex (INTEGER)\n",
      "BoneName (TEXT)\n",
      "LocalPos_X (REAL)\n",
      "LocalPos_Y (REAL)\n",
      "LocalPos_Z (REAL)\n",
      "LocalRot_X (REAL)\n",
      "LocalRot_Y (REAL)\n",
      "LocalRot_Z (REAL)\n",
      "LocalRot_W (REAL)\n",
      "LocalScale_X (REAL)\n",
      "LocalScale_Y (REAL)\n",
      "LocalScale_Z (REAL)\n"
     ]
    }
   ],
   "source": [
    "# List Columns in AnimationData \n",
    "cursor.execute(\"PRAGMA table_info(AnimationData);\")\n",
    "columns = cursor.fetchall()\n",
    "\n",
    "print(\"Columns in AnimationData:\")\n",
    "for col in columns:\n",
    "    print(f\"{col[1]} ({col[2]})\")  # col[1] = col name, col[2] = data type"
   ]
  },
  {
   "cell_type": "code",
   "execution_count": 4,
   "id": "c62935c1-319d-4f18-9968-9908db31b071",
   "metadata": {},
   "outputs": [
    {
     "name": "stdout",
     "output_type": "stream",
     "text": [
      "   ID  SessionID  FrameIndex BoneName  LocalPos_X  LocalPos_Y  LocalPos_Z  \\\n",
      "0   1          1          36     Base    0.000000    0.000000    0.000000   \n",
      "1   2          1          36     Hips    6.732772  -65.189589   -8.460515   \n",
      "2   3          1          36   Spine1    0.000032   -8.627682   -4.015216   \n",
      "3   4          1          36   Spine2    0.000002    7.721919   -0.000004   \n",
      "4   5          1          36   Spine3    0.000001    7.721936   -0.000005   \n",
      "\n",
      "   LocalRot_X  LocalRot_Y  LocalRot_Z  LocalRot_W  LocalScale_X  LocalScale_Y  \\\n",
      "0   -0.707107    0.000000    0.000000    0.707107           1.0           1.0   \n",
      "1    0.227292    0.205189   -0.047765    0.950765           1.0           1.0   \n",
      "2    0.001693    0.114260    0.993395    0.010391           1.0           1.0   \n",
      "3    0.115805   -0.001716   -0.010531    0.993215           1.0           1.0   \n",
      "4    0.114605   -0.001699   -0.010422    0.993355           1.0           1.0   \n",
      "\n",
      "   LocalScale_Z  \n",
      "0           1.0  \n",
      "1           1.0  \n",
      "2           1.0  \n",
      "3           1.0  \n",
      "4           1.0  \n"
     ]
    }
   ],
   "source": [
    "# List rows using dataframe (df) \n",
    "query = \"SELECT * FROM AnimationData;\"\n",
    "df= pd.read_sql(query, conn)\n",
    "\n",
    "# Close connection to DB\n",
    "conn.close()\n",
    "\n",
    "# Print top 5 rows\n",
    "print(df.head())"
   ]
  },
  {
   "cell_type": "markdown",
   "id": "cee15028-95c5-4b3b-a793-d71c5b5f5cdf",
   "metadata": {},
   "source": [
    "# Installed Packages In this enviorment "
   ]
  },
  {
   "cell_type": "markdown",
   "id": "b5cbdf59-f762-4074-b3e2-a0e1d01fed23",
   "metadata": {},
   "source": [
    "#### Note: To install or remove packages from the enviorment, remeber to use conda command not pip. "
   ]
  },
  {
   "cell_type": "code",
   "execution_count": 6,
   "id": "6eb0d7a6-b373-45ba-8e48-73d44008f71c",
   "metadata": {},
   "outputs": [
    {
     "name": "stdout",
     "output_type": "stream",
     "text": [
      "Numpy version:  2.2.2\n",
      "Pandas version:  2.2.3\n",
      "Matplotlib version:  3.10.0\n",
      "SQLAlchemy version:  2.0.37\n",
      "Scikit-learn version:  1.6.1\n",
      "Scipy version:  1.15.1\n"
     ]
    }
   ],
   "source": [
    "import numpy as np\n",
    "import pandas as pd\n",
    "import matplotlib\n",
    "import sqlalchemy\n",
    "import sklearn\n",
    "import scipy\n",
    "\n",
    "print(\"Numpy version: \", np.__version__)\n",
    "print(\"Pandas version: \", pd.__version__)\n",
    "print(\"Matplotlib version: \", matplotlib.__version__)\n",
    "print(\"SQLAlchemy version: \", sqlalchemy.__version__)\n",
    "print(\"Scikit-learn version: \", sklearn.__version__)\n",
    "print(\"Scipy version: \", scipy.__version__)"
   ]
  }
 ],
 "metadata": {
  "kernelspec": {
   "display_name": "Python 3 (ipykernel)",
   "language": "python",
   "name": "python3"
  },
  "language_info": {
   "codemirror_mode": {
    "name": "ipython",
    "version": 3
   },
   "file_extension": ".py",
   "mimetype": "text/x-python",
   "name": "python",
   "nbconvert_exporter": "python",
   "pygments_lexer": "ipython3",
   "version": "3.13.1"
  }
 },
 "nbformat": 4,
 "nbformat_minor": 5
}
